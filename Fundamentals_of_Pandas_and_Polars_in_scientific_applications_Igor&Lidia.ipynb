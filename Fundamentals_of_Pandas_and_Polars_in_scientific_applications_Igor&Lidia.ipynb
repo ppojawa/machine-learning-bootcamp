{
  "cells": [
    {
      "cell_type": "markdown",
      "metadata": {
        "id": "wCGY01MCs1C8"
      },
      "source": [
        "# **Fundamentals of Pandas and Polars in scientific applications**\n",
        "\n",
        "### Tutorial for participants of PyCon PL 2024\n",
        "### Lidia Lipińska-Zubrycka (University of Warsaw) & Igor Zubrycki (Lodz University of Technology)"
      ]
    },
    {
      "cell_type": "markdown",
      "metadata": {
        "id": "s4EjWdrrrYLO"
      },
      "source": [
        "# What are Pandas and Polars?\n",
        "\n",
        "Both Pandas and Polars are frameworks designed to work with **tabular data**—data that fits into tables, which can sometimes be extremely large. This kind of data is commonly derived from various scientific experiments.\n",
        "\n",
        "In this guide, we will work with medical data and data from robotics. In both cases, the results are stored in files that consist of tables.\n",
        "\n",
        "These frameworks enable us to work efficiently on common tasks related to tabular data analysis. This includes finding and selecting relevant data (filtering), performing various operations on columns, creating new tables (pivoting, grouping by), and visualizing the data.\n",
        "\n",
        "\n",
        "# The comparison of Pandas and Polars\n",
        "When comparing the Python libraries **Pandas** and **Polars** for data manipulation, each offers distinct features and performance characteristics suitable for different use cases. Here's a breakdown of the pros and cons of each:\n",
        "\n",
        "## **Pandas**\n",
        "### Pros:\n",
        "\n",
        "* **Popularity and Community:** Pandas is widely used in the data science community, which means it has extensive documentation, a wealth of tutorials and resources, and a large community for support.\n",
        "* **Feature-Rich:** Offers comprehensive data manipulation capabilities for data cleaning, transformation, and analysis.\n",
        "* **Integration:** Well-integrated with other data science libraries in Python, such as Matplotlib, Scikit-Learn, and Statsmodels.\n",
        "* **Flexible Data Structures:** Provides flexible data structures like DataFrame and Series that are intuitive to use and powerful for handling tabular data.\n",
        "### Cons:\n",
        "* **Performance:** Can be slow with large datasets (>1 million rows) due to its inherent single-threaded nature.\n",
        "* **Memory Usage:**  Often requires a lot of memory, making it less efficient for very large data sets.\n",
        "* **Complexity:**  Some operations in Pandas can be verbose and complex, requiring multiple steps or custom functions.\n",
        "\n",
        "## **Polars**\n",
        "\n",
        "### Pros:\n",
        "* **Performance:**  Designed for speed and efficiency, Polars is built on Rust and can handle large datasets much faster than Pandas due to its use of multithreading and optimized memory management.\n",
        "* **Lazy Evaluation:** Supports lazy execution (query plans that optimize and defer computation), which can be more efficient for complex data pipelines.\n",
        "* **Less Memory Consumption:** Typically uses less memory than Pandas, making it more suitable for large data sets on limited hardware.\n",
        "* **Modern API:** Offers a clean and modern API that can be easier to use for certain operations, especially with its expressive query syntax.\n",
        "### Cons:\n",
        "* **(Much) Younger Library:** While growing, Polars does not yet have the same level of community support, breadth of resources, or third-party integrations as Pandas.\n",
        "* **Fewer Features:** Though rapidly evolving, Polars currently has fewer features than Pandas, especially in areas of detailed statistical analysis or specialized data manipulations.\n",
        "* **API Familiarity:** Users familiar with Pandas might find it initially challenging to switch due to differences in API and functionality.\n",
        "\n",
        "\n",
        "### Conclusions\n",
        "Let's learn both :-)"
      ]
    },
    {
      "cell_type": "markdown",
      "metadata": {
        "id": "sqYxqpjyy70J"
      },
      "source": [
        "# Import libraries\n",
        "\n",
        "In addition to Pandas and Polars, which are not part of the Python standard library, we must import other necessary libraries for data manipulation, visualization, and scientific computation. These include NumPy, Seaborn, and Matplotlib. We instruct Python to load these libraries with the following code:"
      ]
    },
    {
      "cell_type": "code",
      "execution_count": null,
      "metadata": {
        "id": "XyE04scDqetE"
      },
      "outputs": [],
      "source": [
        "# Import libraries\n",
        "\n",
        "import pandas as pd\n",
        "from datetime import date\n",
        "import seaborn as sns\n",
        "import matplotlib.pyplot as plt\n",
        "\n",
        "%matplotlib inline"
      ]
    },
    {
      "cell_type": "markdown",
      "metadata": {
        "id": "jhDM6e02tlV8"
      },
      "source": [
        "# Pandas\n"
      ]
    },
    {
      "cell_type": "markdown",
      "metadata": {
        "id": "JUwsUIyQtgTv"
      },
      "source": [
        "## Pandas DataFrame - how to create/import it?\n",
        "\n",
        "A **DataFrame** is a two-dimensional data structure in pandas, similar to a table in a relational database. There are several ways to create a DataFrame.\n"
      ]
    },
    {
      "cell_type": "markdown",
      "metadata": {
        "id": "1QMdm0QVt4wj"
      },
      "source": [
        "## Read dataset"
      ]
    },
    {
      "cell_type": "code",
      "execution_count": null,
      "metadata": {
        "id": "yZkqXPGNt0z1"
      },
      "outputs": [],
      "source": [
        "#from google.colab import drive\n",
        "#drive.mount('/content/drive')\n",
        "\n",
        "\n",
        "file_path = 'breast_cancer_diagnostic_data.csv'\n",
        "\n",
        "!wget https://raw.githubusercontent.com/lidkalee/PyConPL23_Pandas/master/breast_cancer_diagnostic_data.csv\n",
        "cancer_data = pd.read_csv(file_path)"
      ]
    },
    {
      "cell_type": "code",
      "execution_count": null,
      "metadata": {
        "id": "32Wcoee7t02Z"
      },
      "outputs": [],
      "source": [
        "#cancer_data = pd.read_csv('breast_cancer_diagnostic_data.csv')"
      ]
    },
    {
      "cell_type": "markdown",
      "metadata": {
        "id": "yJ91nK8CuAmF"
      },
      "source": [
        "## Description of dataset\n",
        "The results show data obtained from a breast tumor biopsy along with the diagnosis: malignant or benign form of cancer.\n",
        "\n",
        "\n",
        "**Features:**\n",
        "\n",
        "1. ID number\n",
        "2. Diagnosis (M = malignant (złośliwy), B = benign (łagodny))\n",
        "\n",
        "**Ten real-valued features are computed for each cell nucleus:**\n",
        "\n",
        "* radius (mean of distances from center to points on the perimeter)\n",
        "* texture (standard deviation of gray-scale values)\n",
        "* perimeter\n",
        "* area\n",
        "* moothness (local variation in radius lengths)\n",
        "* compactness (perimeter^2 / area - 1.0)\n",
        "* concavity (severity of concave portions of the contour)\n",
        "* concave points (number of concave portions of the contour)\n",
        "* symmetry\n",
        "* fractal dimension (\"coastline approximation\" - 1)\n",
        "\n",
        "\n",
        "Source:: https://archive.ics.uci.edu/dataset/17/breast+cancer+wisconsin+diagnostic"
      ]
    },
    {
      "cell_type": "markdown",
      "metadata": {
        "id": "Vm_EeasIuFHF"
      },
      "source": [
        "## Getting help about Pandas functions\n",
        "\n",
        "*   Using the Pandas documentation [link text](https://pandas.pydata.org/pandas-docs/stable/)\n",
        "*   Asking Chat GDP for help\n",
        "*   Using the help() function\n",
        "*   Using the ? operator\n",
        "\n"
      ]
    },
    {
      "cell_type": "code",
      "execution_count": null,
      "metadata": {
        "id": "usifpgn4t07g"
      },
      "outputs": [],
      "source": [
        "# Examples\n",
        "help(pd.DataFrame)"
      ]
    },
    {
      "cell_type": "markdown",
      "metadata": {
        "id": "48epmIkpuJqP"
      },
      "source": [
        "## Pandas provides a variety of ways to view and inspect your data"
      ]
    },
    {
      "cell_type": "code",
      "execution_count": null,
      "metadata": {
        "id": "pLig9n8zt09q"
      },
      "outputs": [],
      "source": [
        "# head(): This function returns the first n rows of your DataFrame. By default, it shows the first 5 rows.\n",
        "cancer_data.head()"
      ]
    },
    {
      "cell_type": "code",
      "execution_count": null,
      "metadata": {
        "id": "W28i3tcuthK9"
      },
      "outputs": [],
      "source": [
        "#info(): This method provides a concise summary of the DataFrame including the number of non-null values in each column, and the datatype of each column.\n",
        "cancer_data.info()"
      ]
    },
    {
      "cell_type": "code",
      "execution_count": null,
      "metadata": {
        "id": "muQOMZnbuPhs"
      },
      "outputs": [],
      "source": [
        "# dtypes: This attribute returns the datatypes of each column.\n",
        "cancer_data.dtypes"
      ]
    },
    {
      "cell_type": "code",
      "execution_count": null,
      "metadata": {
        "id": "zWAlF2JZuPkL"
      },
      "outputs": [],
      "source": [
        "# describe(): This function provides descriptive statistics that summarize the central tendency, dispersion, and shape of a dataset’s distribution, excluding NaN values.\n",
        "cancer_data.describe()\n"
      ]
    },
    {
      "cell_type": "code",
      "execution_count": null,
      "metadata": {
        "id": "cPFDDcHAuPml"
      },
      "outputs": [],
      "source": [
        "# shape: This attribute returns a tuple representing the dimensionality of the DataFrame (rows, columns).\n",
        "cancer_data.shape"
      ]
    },
    {
      "cell_type": "code",
      "execution_count": null,
      "metadata": {
        "id": "t6VPEjd8uPrV"
      },
      "outputs": [],
      "source": [
        "# columns: This attribute returns the column labels of the DataFrame.\n",
        "cancer_data.columns"
      ]
    },
    {
      "cell_type": "code",
      "execution_count": null,
      "metadata": {
        "id": "tXOLaElsthN_"
      },
      "outputs": [],
      "source": [
        "#loc and iloc: These two attributes allow you to access groups of rows and columns in a DataFrame. loc is label-based, which means you have to specify the name of the rows and columns that you need to filter out. On the other hand, iloc is integer index-based, so you have to specify rows and columns by their integer index.\n",
        "print(cancer_data.loc[0])  # Prints the first row\n",
        "#print(cancer_data.iloc[0])  # Also prints the first row"
      ]
    },
    {
      "cell_type": "markdown",
      "metadata": {
        "id": "2sIjIKRMuZx-"
      },
      "source": [
        "## Data exploration"
      ]
    },
    {
      "cell_type": "code",
      "execution_count": null,
      "metadata": {
        "id": "_NwwaNI2uWNy"
      },
      "outputs": [],
      "source": [
        "## How many patients have been diagnosed with malignant and how many with benign tumors?\n",
        "cancer_data['diagnosis'].value_counts()"
      ]
    },
    {
      "cell_type": "markdown",
      "metadata": {
        "id": "yv-V_1KYueaQ"
      },
      "source": [
        "## ***Exercise:***\n",
        "What percentage of the examined patients have been diagnosed with a malignant tumor and how many with a benign one? Hint: Refer to the documentation for the value_counts() function."
      ]
    },
    {
      "cell_type": "code",
      "execution_count": null,
      "metadata": {
        "id": "EJzIh5wcuWUU"
      },
      "outputs": [],
      "source": [
        "# place for your code\n"
      ]
    },
    {
      "cell_type": "markdown",
      "metadata": {
        "id": "lomsEsPrumlN"
      },
      "source": [
        "## Different methods of subsetting rows and/or columns.\n",
        "\n",
        "Pandas provides several methods for indexing rows and/or columns. Here are some common techniques:\n",
        "\n",
        "* Selection by Label (**df.loc[]**): loc is primarily label-based indexing. It can accept single labels, lists of labels, slices of labels, boolean arrays, or a callable function with one argument.\n",
        "\n",
        "\n",
        "\n",
        "```\n",
        "df.loc[row_label, column_label]  # Single row, single column\n",
        "df.loc[row_label, :]  # Single row, all columns\n",
        "df.loc[:, column_label]  # All rows, single column\n",
        "df.loc[[row_label1, row_label2], [column_label1, column_label2]]  # Multiple rows and columns\n",
        "```\n",
        "\n",
        "* Selection by Position (**df.iloc[]**): iloc is primarily integer-based indexing. It can accept integers, lists of integers, slices of integers, boolean arrays, or a callable function with one argument.\n",
        "\n",
        "\n",
        "```\n",
        "df.iloc[row_index, column_index]  # Single row, single column\n",
        "df.iloc[row_index, :]  # Single row, all columns\n",
        "df.iloc[:, column_index]  # All rows, single column\n",
        "df.iloc[[row_index1, row_index2], [column_index1, column_index2]]  # Multiple rows and columns\n",
        "```\n",
        "\n",
        "* **Boolean Indexing**: This type of indexing is used when we want to filter rows from a DataFrame based on a certain condition.\n",
        "\n",
        "\n",
        "\n",
        "```\n",
        "df[df['column_label'] > value]  # Rows where the column is greater than value\n",
        "df[(df['column_label1'] > value1) & (df['column_label2'] < value2)]  # Applying multiple conditions\n",
        "```\n",
        "* **Using df.at[]** and df.iat[]: For getting or setting a single value from a DataFrame. at uses label-based indexing and iat uses integer-based indexing.\n",
        "\n"
      ]
    },
    {
      "cell_type": "code",
      "execution_count": null,
      "metadata": {
        "id": "UNrfNMgtuWXB"
      },
      "outputs": [],
      "source": []
    },
    {
      "cell_type": "markdown",
      "metadata": {
        "id": "Zy8I64j-uq9-"
      },
      "source": [
        "#### Subsetting columns"
      ]
    },
    {
      "cell_type": "code",
      "execution_count": null,
      "metadata": {
        "id": "8qOmD3KcuWZY"
      },
      "outputs": [],
      "source": [
        "## Subsetting columns by name\n",
        "cancer_data['diagnosis']"
      ]
    },
    {
      "cell_type": "code",
      "execution_count": null,
      "metadata": {
        "id": "Fzws6ejJuWbv"
      },
      "outputs": [],
      "source": [
        "cancer_data.diagnosis"
      ]
    },
    {
      "cell_type": "markdown",
      "metadata": {
        "id": "OQyeX0Ckoi_h"
      },
      "source": [
        "## ***Exercise:***\n",
        "Use one of the methods above to create an object containing the 'id' column from the cancer_data table, and check what type of object it is"
      ]
    },
    {
      "cell_type": "code",
      "execution_count": null,
      "metadata": {
        "id": "zQL_etJGok-4"
      },
      "outputs": [],
      "source": [
        "# Place for your code\n"
      ]
    },
    {
      "cell_type": "code",
      "execution_count": null,
      "metadata": {
        "id": "RzrXNHsQolBn"
      },
      "outputs": [],
      "source": [
        "## Select specific columns and prepare subset of DataFrame\n",
        "cancer_subset = cancer_data[['id', 'diagnosis', 'radius_mean']]\n",
        "cancer_subset.head()"
      ]
    },
    {
      "cell_type": "code",
      "execution_count": null,
      "metadata": {
        "id": "Y8uvcHOzolD3"
      },
      "outputs": [],
      "source": [
        "# Check the information of a given patient ('id' column)\n",
        "\n",
        "cancer_data.iloc[1:]"
      ]
    },
    {
      "cell_type": "code",
      "execution_count": null,
      "metadata": {
        "id": "akKY90YY1hDC"
      },
      "outputs": [],
      "source": [
        "cancer_data.iloc[5:8] # 8th row is not included"
      ]
    },
    {
      "cell_type": "markdown",
      "metadata": {
        "id": "LRZYqRNcpO3o"
      },
      "source": [
        "### **Excercise**\n",
        "Prepare new DataFrame called cancer_data_subset, containing first 11 columns of original DataFrame"
      ]
    },
    {
      "cell_type": "code",
      "execution_count": null,
      "metadata": {
        "id": "D8DhuZYGolHc"
      },
      "outputs": [],
      "source": [
        "# Place for your code\n",
        "list_col = list(cancer_data.columns)[:12]\n",
        "cancer_data_subset = cancer_data[list_col]\n",
        "cancer_data_subset.head()"
      ]
    },
    {
      "cell_type": "markdown",
      "metadata": {
        "id": "6Rvtrsphqoy5"
      },
      "source": [
        "## Boolean subsetting DataFrame"
      ]
    },
    {
      "cell_type": "code",
      "execution_count": null,
      "metadata": {
        "id": "YNrS8dCiZf8D"
      },
      "outputs": [],
      "source": [
        "cancer_data_M = cancer_data[cancer_data['diagnosis']=='M']\n",
        "#cancer_M['diagnosis'].value_counts()"
      ]
    },
    {
      "cell_type": "code",
      "execution_count": null,
      "metadata": {
        "id": "VWg3VzpMq_36"
      },
      "outputs": [],
      "source": [
        "cancer_data[cancer_data['area_mean']>1000]"
      ]
    },
    {
      "cell_type": "markdown",
      "metadata": {
        "id": "TfXgtODDs6CA"
      },
      "source": [
        "### **Excercise**\n",
        "Prepare a subset of data containing only rows with 'area_mean' higher than average. Please check the frequency of patients with malignant and benign diagnosis"
      ]
    },
    {
      "cell_type": "code",
      "execution_count": null,
      "metadata": {
        "id": "noZC8xBYZgBP"
      },
      "outputs": [],
      "source": [
        "# Place for your code\n",
        "\n",
        "#cancer_data[cancer_data[\"area_mean\"] > cancer_data[\"area_mean\"].mean()]"
      ]
    },
    {
      "cell_type": "code",
      "execution_count": null,
      "metadata": {
        "id": "2-tYfwE528Hh"
      },
      "outputs": [],
      "source": []
    },
    {
      "cell_type": "markdown",
      "metadata": {
        "id": "2zOplmc4tS_-"
      },
      "source": [
        "## Drop columns or rows\n",
        "* **Dropping columns**:\n",
        "To drop one or more columns from a DataFrame, you can use the following syntax:\n",
        "\n",
        "\n",
        "```\n",
        "df.drop(['column_name1', 'column_name2'], axis=1)\n",
        "```\n",
        "Here, 'column_name1' and 'column_name2' are the names of the columns you want to drop. axis=1 specifies that you want to drop columns.\n",
        "\n",
        "* **Dropping rows**:\n",
        "To drop one or more rows from a DataFrame, you can use:\n",
        "\n",
        "\n",
        "```\n",
        "df.drop([index1, index2], axis=0)\n",
        "```\n",
        "Here, 'index1' and 'index2' are the indices of the rows you want to drop. axis=0 specifies that you want to drop rows.\n",
        "\n",
        "In both cases, the drop() function doesn't modify the original DataFrame but returns a new one. If you want to modify the original DataFrame, you can use the **inplace=True** argument:\n",
        "\n",
        "\n",
        "```\n",
        "df.drop(['column_name'], axis=1, inplace=True)\n",
        "df.drop([index], axis=0, inplace=True)\n",
        "```\n",
        "Replace 'df' with your DataFrame's name, 'column_name1', 'column_name2' with the names of the columns you want to drop, and 'index1', 'index2' with the indices of the rows you want to drop.\n",
        "\n",
        "\n"
      ]
    },
    {
      "cell_type": "code",
      "execution_count": null,
      "metadata": {
        "id": "OhyPmGYCKzT9"
      },
      "outputs": [],
      "source": [
        "# drop columns from the table (output: table without selected column)\n",
        "# axis = 1 tells the function to apply the operation to the column\n",
        "\n",
        "cancer_data.drop('compactness_mean', axis = 1)"
      ]
    },
    {
      "cell_type": "code",
      "execution_count": null,
      "metadata": {
        "id": "JWfg-AMyKzWU"
      },
      "outputs": [],
      "source": [
        "# drop lins from the table by index (output: table without row 5)\n",
        "# axis = 0 tells the function to apply the operation to the rows\n",
        "\n",
        "cancer_data.drop(5, axis = 0)"
      ]
    },
    {
      "cell_type": "code",
      "execution_count": null,
      "metadata": {
        "id": "xmWD4eh9KzY5"
      },
      "outputs": [],
      "source": [
        "# drop several lines (5-100) from the table by index\n",
        "# axis = 0 tells the function to apply the operation to the rows\n",
        "\n",
        "cancer_data.drop(range(5,100), axis = 0)"
      ]
    },
    {
      "cell_type": "code",
      "execution_count": null,
      "metadata": {
        "id": "XQJHHgRJKzcV"
      },
      "outputs": [],
      "source": [
        "# select slices of lines and columns simultaneously by their index\n",
        "# left side of the comma concerns row indexes (slice lines 50 to 100)\n",
        "# rigth side of the comma concerns column indexes (slice col 5 to 10)\n",
        "\n",
        "cancer_data.iloc[50:100, 5:10]"
      ]
    },
    {
      "cell_type": "code",
      "execution_count": null,
      "metadata": {
        "id": "iXMGABv3Kzgs"
      },
      "outputs": [],
      "source": [
        "# to drop columns containing missing values (Nan)\n",
        "\n",
        "cancer_data.dropna(axis = 1)"
      ]
    },
    {
      "cell_type": "code",
      "execution_count": null,
      "metadata": {
        "id": "pe1kplkNKzik"
      },
      "outputs": [],
      "source": [
        "# to drop lines containing missing values (Nan)\n",
        "# (there is no lines containing missing values here)\n",
        "cancer_data.dropna(axis = 0)"
      ]
    },
    {
      "cell_type": "code",
      "execution_count": null,
      "metadata": {
        "id": "UqmlS4QItczu"
      },
      "outputs": [],
      "source": []
    },
    {
      "cell_type": "markdown",
      "metadata": {
        "id": "dXFa6vYW3WcS"
      },
      "source": [
        "## Renaming columns or rows\n",
        "Renaming columns or rows in a pandas DataFrame can be accomplished using the rename() function. Here's how:\n",
        "\n",
        "**Renaming columns**:\n",
        "\n",
        "\n",
        "```\n",
        "df.rename(columns={'old_name1': 'new_name1', 'old_name2': 'new_name2'}, inplace=True)\n",
        "```\n",
        "In the above line, old_name1 and old_name2 are the old column names and new_name1 and new_name2 are the new column names. The argument inplace=True makes the changes in the original DataFrame.\n",
        "\n",
        "**Renaming rows:**\n",
        "\n",
        "\n",
        "\n",
        "```\n",
        "df.rename(index={old_index1: new_index1, old_index2: new_index2}, inplace=True)\n",
        "```\n",
        "In the above line, old_index1 and old_index2 are the old row labels (indices) and new_index1 and new_index2 are the new labels. Again, inplace=True makes the changes in the original DataFrame.\n",
        "\n",
        "**Using a function to change column or index names:**\n",
        "If you want to apply the same transformation to all column or index names, you can pass a function instead of a dictionary to rename. For example, to make all column names uppercase:\n",
        "\n",
        "\n",
        "```\n",
        "df.rename(columns=str.upper, inplace=True)\n",
        "```\n",
        "\n",
        "In this case, the function str.upper is applied to each column name.\n",
        "\n",
        "Replace df with your DataFrame's name, old_name1, old_name2, new_name1, new_name2, old_index1, old_index2, new_index1, and new_index2 with the appropriate names and indices for your DataFrame.\n",
        "\n",
        "\n",
        "\n",
        "\n",
        "\n",
        "\n",
        "\n",
        "\n"
      ]
    },
    {
      "cell_type": "code",
      "source": [],
      "metadata": {
        "id": "iru9zrIyaIJK"
      },
      "execution_count": null,
      "outputs": []
    },
    {
      "cell_type": "code",
      "execution_count": null,
      "metadata": {
        "id": "54wfeK6JKzke"
      },
      "outputs": [],
      "source": [
        "\n",
        "\n",
        "cancer_data_subset.columns = ['diagnosis', 'radius', 'texture', 'perimeter','area', 'smoothness', 'compactness']\n",
        "\n",
        "# tables can be saved using .to_csv function\n",
        "# several parameters can be used to control the shape of the table\n",
        "cancer_data_subset.to_csv('my_new_table.txt', sep = '\\t', index = False)\n",
        "\n",
        "# and we have our new table\n",
        "cancer_data_subset"
      ]
    },
    {
      "cell_type": "markdown",
      "metadata": {
        "id": "ztLEa3TvtkU7"
      },
      "source": [
        "## DataFrame reshaping\n",
        "There are several methods to reshape a pandas DataFrame. Here are a few commonly used methods:\n",
        "\n",
        "* **Pivot**: This is used to reshape data (produce a \"pivot\" table) based on column values. It uses unique values from specified index / columns to form axes of the resulting DataFrame.\n",
        "\n",
        "```\n",
        "df.pivot(index='column1', columns='column2', values='column3')\n",
        "```\n",
        "* **Melt**: This is used to unpivot a DataFrame from wide format to long format, optionally leaving identifiers set.\n",
        "\n",
        "```\n",
        "df.melt(id_vars=['column1', 'column2'], value_vars=['column3', 'column4'])\n",
        "```\n",
        "\n",
        "* **Stack**: This is used to \"compress\" a level in the DataFrame's columns to produce either:\n",
        "    * A Series (if the columns have a single level).\n",
        "    * A DataFrame (if the columns have multiple levels).\n",
        "\n",
        "```\n",
        "df.stack()\n",
        "```\n",
        "\n",
        "* **Unstack**: This method is used to \"expand\" a level in the DataFrame's columns to produce a new DataFrame.\n",
        "\n",
        "```\n",
        "df.unstack()\n",
        "```\n",
        "* **Pivot Table**: This is a generalization of pivot that can handle duplicate values for one index/column pair.\n",
        "\n",
        "```\n",
        "df.pivot_table(values='column3', index='column1', columns='column2', aggfunc='mean')\n",
        "```\n",
        "\n",
        "Remember, the reshaping method you use will depend on what your current data looks like and what you want it to look like.\n",
        "\n"
      ]
    },
    {
      "cell_type": "code",
      "execution_count": null,
      "metadata": {
        "id": "ycJijhh3WaUN"
      },
      "outputs": [],
      "source": [
        "## Reshape the table\n",
        "# melting the dataframe\n",
        "melted_df = cancer_data.melt(id_vars='diagnosis',\n",
        "                                     value_vars=['radius_mean', 'texture_mean', 'perimeter_mean', 'area_mean', 'smoothness_mean', 'compactness_mean'],\n",
        "                                     var_name='parameter',\n",
        "                                     value_name='value')\n",
        "\n",
        "# now melted_df contains the columns 'diagnosis', 'parameter', and 'value'\n",
        "print(melted_df.head())"
      ]
    },
    {
      "cell_type": "markdown",
      "metadata": {
        "id": "2k8JDEmsYEjb"
      },
      "source": [
        "### **Excercise**\n",
        "Prepare subset of melted_df dataframe and remove all rows with value 'area' in 'parameter column. Visualise data with violinplot"
      ]
    },
    {
      "cell_type": "code",
      "execution_count": null,
      "metadata": {
        "id": "Zc-BhjvuYm58"
      },
      "outputs": [],
      "source": [
        "# Place for your code\n",
        "\n"
      ]
    },
    {
      "cell_type": "markdown",
      "metadata": {
        "id": "gq56BOQi_80m"
      },
      "source": [
        "## Main operations"
      ]
    },
    {
      "cell_type": "code",
      "execution_count": null,
      "metadata": {
        "id": "UGFtu0RlKzrG"
      },
      "outputs": [],
      "source": [
        "# check the mean of a given column\n",
        "cancer_data_subset['radius_mean'].mean()"
      ]
    },
    {
      "cell_type": "code",
      "execution_count": null,
      "metadata": {
        "id": "C0FCgQHPLO7c"
      },
      "outputs": [],
      "source": [
        "# check the maximum or the minimum value of a given column\n",
        "cancer_data_subset['radius_mean'].max(), cancer_data_subset['radius_mean'].min()"
      ]
    },
    {
      "cell_type": "code",
      "execution_count": null,
      "metadata": {
        "id": "IrHNT6rVLP67"
      },
      "outputs": [],
      "source": [
        "# count number of elements of a given column\n",
        "cancer_data_subset['radius_mean'].count()"
      ]
    },
    {
      "cell_type": "code",
      "execution_count": null,
      "metadata": {
        "id": "-xp_z7d3LP9c"
      },
      "outputs": [],
      "source": [
        "# sum all values in a given column\n",
        "cancer_data_subset['radius_mean'].sum()"
      ]
    },
    {
      "cell_type": "code",
      "execution_count": null,
      "metadata": {
        "id": "BMUbCaYXLQBa"
      },
      "outputs": [],
      "source": []
    },
    {
      "cell_type": "code",
      "execution_count": null,
      "metadata": {
        "id": "U7NKTz6XLQJW"
      },
      "outputs": [],
      "source": [
        "# if we define this as a new parameter (dummy_col)\n",
        "dummy_col = cancer_data_subset[['radius_mean','perimeter_mean','area_mean']].sum(axis = 1)\n",
        "\n",
        "# we can add it to our table using the assign function\n",
        "# sets the column name (string) and the variable that goes with it\n",
        "cancer_data_subset.assign(new_col = dummy_col)"
      ]
    },
    {
      "cell_type": "code",
      "execution_count": null,
      "metadata": {
        "id": "MuGD0pIULQKm"
      },
      "outputs": [],
      "source": [
        "# to replace values by other values dynamically we can use replace function\n",
        "# to replace 'M' and 'B' by the full word 'Malign' and 'Benign', respectively:\n",
        "\n",
        "cancer_data_subset['diagnosis'].replace(to_replace = ['M','B'], value = ['Malign','Benign'], inplace = True)\n",
        "cancer_data_subset"
      ]
    },
    {
      "cell_type": "markdown",
      "metadata": {
        "id": "L9n1cltaLqv8"
      },
      "source": [
        "# Data Visualisation"
      ]
    },
    {
      "cell_type": "code",
      "execution_count": null,
      "metadata": {
        "id": "85NHUDLhWaj-"
      },
      "outputs": [],
      "source": [
        "import seaborn as sns\n",
        "import matplotlib.pyplot as plt\n",
        "\n",
        "%matplotlib inline\n",
        "\n",
        "sns.boxenplot(data = melted_df, x = 'parameter', y = 'value', hue = 'diagnosis')"
      ]
    },
    {
      "cell_type": "code",
      "execution_count": null,
      "metadata": {
        "id": "VbleKrnaLjbQ"
      },
      "outputs": [],
      "source": [
        "hist = sns.distplot(cancer_data['area_mean'])\n",
        "hist.set_title('Mean area Histogram')\n",
        "hist.set_xlabel('Area mean')\n",
        "hist.set_ylabel('Density')\n",
        "plt.show()"
      ]
    },
    {
      "cell_type": "code",
      "execution_count": null,
      "metadata": {
        "id": "wfstrlloX5m-"
      },
      "outputs": [],
      "source": [
        "cancer_data.head()"
      ]
    },
    {
      "cell_type": "code",
      "execution_count": null,
      "metadata": {
        "id": "4DVcmMXbXya1"
      },
      "outputs": [],
      "source": [
        "# scatterplot\n",
        "sns.scatterplot(data = cancer_data, x = 'area_mean', y = 'perimeter_mean', hue = 'diagnosis')"
      ]
    },
    {
      "cell_type": "markdown",
      "metadata": {
        "id": "WW9ZU1q4bTJt"
      },
      "source": [
        "## ***Exercise:***\n",
        "\n",
        "Try do visualise another parameters using scatterplot. Can you tell the any difference between patients goup?  "
      ]
    },
    {
      "cell_type": "code",
      "execution_count": null,
      "metadata": {
        "id": "fN6STA_PN7NQ"
      },
      "outputs": [],
      "source": []
    },
    {
      "cell_type": "code",
      "execution_count": null,
      "metadata": {
        "id": "luvmQkcCazeF"
      },
      "outputs": [],
      "source": []
    },
    {
      "cell_type": "code",
      "execution_count": null,
      "metadata": {
        "id": "zwJ_050DN7Uq",
        "collapsed": true
      },
      "outputs": [],
      "source": [
        "# once again, only numerical data is shown\n",
        "# but columns containing categorical data (diagnosis in our data)\n",
        "# can be used as a parameter to group data into classes\n",
        "\n",
        "sns.pairplot(cancer_data, hue = 'diagnosis')"
      ]
    },
    {
      "cell_type": "markdown",
      "metadata": {
        "id": "YoJq0kKctonq"
      },
      "source": [
        "# Polars: let's switch to a separate Jupyter notebook for excercises on Polars\n",
        "\n",
        "<a target=\"_blank\" href=\"https://colab.research.google.com/github/AdoHaha/PyConPL24_Pandas_Polars/blob/master/polars-robot.ipynb\">\n",
        "  <img src=\"https://colab.research.google.com/assets/colab-badge.svg\" alt=\"Open In Colab\"/>\n",
        "</a>\n",
        "\n",
        "Below are simple operations that can help you switch from Pandas to Polars, but let's do a deep dive in a separate file"
      ]
    },
    {
      "cell_type": "markdown",
      "metadata": {
        "id": "mo1bZWvCO3UT"
      },
      "source": [
        "### Series in Polars"
      ]
    },
    {
      "cell_type": "code",
      "execution_count": null,
      "metadata": {
        "id": "mOQwGDiVO_l_"
      },
      "outputs": [],
      "source": [
        "## Create an example of series\n",
        "series = pl.Series(\"Age\", [28, 34, 45, 52, 45])"
      ]
    },
    {
      "cell_type": "code",
      "execution_count": null,
      "metadata": {
        "id": "62xj092eQVW5"
      },
      "outputs": [],
      "source": [
        "series"
      ]
    },
    {
      "cell_type": "code",
      "execution_count": null,
      "metadata": {
        "id": "pp5wMp5bQVYn"
      },
      "outputs": [],
      "source": [
        "## Typical aggregation methods for Polars series: max(), min(), sum()\n",
        "\n",
        "# Lets check the age of the oldest person\n",
        "series.max()\n"
      ]
    },
    {
      "cell_type": "code",
      "execution_count": null,
      "metadata": {
        "id": "KZ0pzJ6_QVa5"
      },
      "outputs": [],
      "source": [
        "## How old in the youngest person?\n"
      ]
    },
    {
      "cell_type": "code",
      "execution_count": null,
      "metadata": {
        "id": "3UwXHaLNRAWU"
      },
      "outputs": [],
      "source": [
        "## What is the median of age?\n"
      ]
    },
    {
      "cell_type": "code",
      "execution_count": null,
      "metadata": {
        "id": "CeaO0OIIRAbp"
      },
      "outputs": [],
      "source": [
        "## How to sort data?  - Lets try to do it also with desceding order ;)\n",
        "\n",
        "series.sort()"
      ]
    },
    {
      "cell_type": "markdown",
      "metadata": {
        "id": "HaQ0_5dmO8Ie"
      },
      "source": [
        "### Data frames in Polars"
      ]
    },
    {
      "cell_type": "code",
      "execution_count": null,
      "metadata": {
        "id": "0Z9xaFr80LAw"
      },
      "outputs": [],
      "source": [
        "## Prepare data frame in Polars\n",
        "\n",
        "data = {\n",
        "    \"Patient ID\": [1, 2, 3, 4, 5],\n",
        "    \"Name\": [\"Anna\", \"Bartek\", \"Cezary\", None, \"Ewa\"],\n",
        "    \"Age\": [28, 34, 45, 52, None],\n",
        "    \"Gender\": [\"Female\", \"Male\", \"Male\", \"Female\", \"Female\"],\n",
        "    \"Blood Pressure\": [\"120/80\", \"130/85\", \"140/90\", None, \"125/80\"],\n",
        "    \"Cholesterol Level\": [195.5, 220.1, None, 230.2, 210.3],\n",
        "    \"Visit Date\": [date(2023, 8, 15), date(2023, 8, 16), None, date(2023, 8, 18), date(2023, 8, 19)],\n",
        "    \"Smoker\": [False, True, True, False, False],\n",
        "    \"Weight (kg)\": [55, 78, 90, None, 64],\n",
        "    \"Height (cm)\": [165, 180, 175, 160, None]\n",
        "}\n",
        "\n",
        "# Creating DataFrame\n",
        "medical_df = pl.DataFrame(data)\n",
        "\n",
        "# Displaying the DataFrame\n",
        "print(medical_df)"
      ]
    },
    {
      "cell_type": "code",
      "execution_count": null,
      "metadata": {
        "id": "HPfkBLxUrWjC"
      },
      "outputs": [],
      "source": [
        "## What types of data do occur in the data frame?\n",
        "\n"
      ]
    },
    {
      "cell_type": "code",
      "execution_count": null,
      "metadata": {
        "id": "2iGTcu5tz5gz"
      },
      "outputs": [],
      "source": [
        "## Lets look at the data frame using methods head(), tail(), describe(), schema()\n"
      ]
    },
    {
      "cell_type": "markdown",
      "metadata": {
        "id": "oeVMY0z6kTiX"
      },
      "source": [
        "#### Subset of data frame"
      ]
    },
    {
      "cell_type": "code",
      "execution_count": null,
      "metadata": {
        "id": "eJericSX0oct"
      },
      "outputs": [],
      "source": [
        "# Subset of data using specific column names\n",
        "\n",
        "df_selected = medical_df.select(['Patient ID', 'Gender'])"
      ]
    },
    {
      "cell_type": "code",
      "execution_count": null,
      "metadata": {
        "id": "Rsm155zfi50V"
      },
      "outputs": [],
      "source": [
        "df_selected"
      ]
    },
    {
      "cell_type": "markdown",
      "metadata": {
        "id": "jbGzFq4GkkcL"
      },
      "source": [
        "### Data filtration"
      ]
    },
    {
      "cell_type": "code",
      "execution_count": null,
      "metadata": {
        "id": "OZtL4OaIi8HK"
      },
      "outputs": [],
      "source": [
        "## Data filtration\n",
        "medical_df.filter( pl.col('Age') >= 30)"
      ]
    },
    {
      "cell_type": "code",
      "execution_count": null,
      "metadata": {
        "id": "BDCV0najjx9U"
      },
      "outputs": [],
      "source": [
        "## Data filtration with multiple parameters\n",
        "medical_df.filter( pl.col('Age') >= 30, pl.col('Smoker') == True)"
      ]
    },
    {
      "cell_type": "markdown",
      "metadata": {
        "id": "v_zm3Wzdkpu0"
      },
      "source": [
        "### Adding and dropping columns\n",
        "**df.with_columns() - the method using to add new column based on other columns**"
      ]
    },
    {
      "cell_type": "code",
      "execution_count": null,
      "metadata": {
        "id": "dkoUa9tukNYl"
      },
      "outputs": [],
      "source": [
        "## Example: add new column with hight in feet\n",
        "\n",
        "# feet = cm/30.48\n",
        "\n",
        "medical_df.with_columns(\n",
        "    (\n",
        "      pl.col(\"Height (cm)\")/30.48).round(2).alias(\"Height in feet\")\n",
        "    )"
      ]
    },
    {
      "cell_type": "code",
      "execution_count": null,
      "metadata": {
        "id": "KWTaKX2UlnM6"
      },
      "outputs": [],
      "source": [
        "##Excercise: Please add new column with BMI\n",
        "\n"
      ]
    },
    {
      "cell_type": "markdown",
      "metadata": {
        "id": "UQjQDjO89SfW"
      },
      "source": [
        "#### Removing columns"
      ]
    },
    {
      "cell_type": "code",
      "execution_count": null,
      "metadata": {
        "id": "sBq6ojj-9KlR"
      },
      "outputs": [],
      "source": [
        "medical_df.drop('Height in feet')"
      ]
    },
    {
      "cell_type": "markdown",
      "metadata": {
        "id": "vhRHHaO69hX2"
      },
      "source": [
        "#### Sorting"
      ]
    },
    {
      "cell_type": "code",
      "execution_count": null,
      "metadata": {
        "id": "yEjrPvwz9bAV"
      },
      "outputs": [],
      "source": [
        "medical_df.sort('Visit Date') ## sorting for various types of data ## from zero to hero"
      ]
    },
    {
      "cell_type": "code",
      "execution_count": null,
      "metadata": {
        "id": "4EnmtAj49nzf"
      },
      "outputs": [],
      "source": [
        "medical_df.sort('Weight (kg)', descending=True) ## from hero to zero"
      ]
    },
    {
      "cell_type": "markdown",
      "metadata": {
        "id": "VJe7oH8b-E8Y"
      },
      "source": [
        "#### Grouping and aggregation\n",
        "At first - filtration, and then - aggregation!"
      ]
    },
    {
      "cell_type": "code",
      "execution_count": null,
      "metadata": {
        "id": "ufZ2rXsG94ia"
      },
      "outputs": [],
      "source": [
        "medical_df.filter( pl.col('Age') >30 )['Cholesterol Level'].max()"
      ]
    },
    {
      "cell_type": "code",
      "execution_count": null,
      "metadata": {
        "id": "j3AMeITY-ZDU"
      },
      "outputs": [],
      "source": [
        "## Excercise"
      ]
    },
    {
      "cell_type": "code",
      "execution_count": null,
      "metadata": {
        "id": "V09gjlelBgrE"
      },
      "outputs": [],
      "source": [
        "## Grupowanie danych i wyliczanie różnych parametrów"
      ]
    },
    {
      "cell_type": "code",
      "execution_count": null,
      "metadata": {
        "id": "XLKAlIX7Bgt-"
      },
      "outputs": [],
      "source": [
        "medical_df.group_by('Gender')"
      ]
    },
    {
      "cell_type": "code",
      "execution_count": null,
      "metadata": {
        "id": "nrj0Y_wgBvk5"
      },
      "outputs": [],
      "source": [
        "medical_df.groupby(\"Gender\").agg([\n",
        "    pl.col(\"Weight (kg)\").mean().alias(\"Average Weight (kg)\")\n",
        "])"
      ]
    },
    {
      "cell_type": "code",
      "execution_count": null,
      "metadata": {
        "id": "ttKCdZLOCBXv"
      },
      "outputs": [],
      "source": [
        "#### Multiple aggregation\n",
        "\n",
        "medical_df.groupby(\"Gender\").agg([\n",
        "    pl.col(\"Weight (kg)\").mean().alias(\"Average Weight (kg)\"),\n",
        "    pl.col(\"Cholesterol Level\").mean().alias(\"Average Cholesterol Level\")\n",
        "])"
      ]
    },
    {
      "cell_type": "code",
      "execution_count": null,
      "metadata": {
        "id": "aHJ7g5rMCnV0"
      },
      "outputs": [],
      "source": [
        "## Excercise: Do smokers have higher average cholersterol level?\n"
      ]
    },
    {
      "cell_type": "markdown",
      "metadata": {
        "id": "lTN_W82nC6WG"
      },
      "source": [
        "#### Dealing with missing values"
      ]
    },
    {
      "cell_type": "code",
      "execution_count": null,
      "metadata": {
        "id": "pOr4G7mUDA8y"
      },
      "outputs": [],
      "source": [
        "## How many null values are in each column?"
      ]
    },
    {
      "cell_type": "code",
      "execution_count": null,
      "metadata": {
        "id": "-14nboNWNz1Y"
      },
      "outputs": [],
      "source": [
        "medical_df.null_count()"
      ]
    },
    {
      "cell_type": "code",
      "execution_count": null,
      "metadata": {
        "id": "akcOp9OlN3d3"
      },
      "outputs": [],
      "source": [
        "## Show subset of data frame having Null value in \"Cholesterol Level\"\n",
        "medical_df.select( pl.col('Cholesterol Level').is_null())"
      ]
    },
    {
      "cell_type": "code",
      "execution_count": null,
      "metadata": {
        "id": "fY5QbQvAOfFO"
      },
      "outputs": [],
      "source": [
        "medical_df.filter( pl.col('Cholesterol Level').is_null())"
      ]
    },
    {
      "cell_type": "code",
      "execution_count": null,
      "metadata": {
        "id": "OMyGvh-JOl-H"
      },
      "outputs": [],
      "source": [
        "### We want only rows with values of Cholesterol Level"
      ]
    },
    {
      "cell_type": "code",
      "execution_count": null,
      "metadata": {
        "id": "NB1tBGICOuGl"
      },
      "outputs": [],
      "source": [
        "medical_df.filter( pl.col('Cholesterol Level').is_not_null())"
      ]
    },
    {
      "cell_type": "code",
      "execution_count": null,
      "metadata": {
        "id": "TPnuGr6pOyPl"
      },
      "outputs": [],
      "source": [
        "### Replace Null values with another value\n",
        "\n",
        "medical_df.with_columns( pl.col('Cholesterol Level').fill_null(pl.lit(50))) ## example without any sense"
      ]
    },
    {
      "cell_type": "code",
      "execution_count": null,
      "metadata": {
        "id": "3tn6UL0OQ9qH"
      },
      "outputs": [],
      "source": [
        "medical_df.with_columns( pl.col('Cholesterol Level').fill_null(strategy = 'forward'))"
      ]
    },
    {
      "cell_type": "code",
      "execution_count": null,
      "metadata": {
        "id": "M_ngX_LwRkW8"
      },
      "outputs": [],
      "source": [
        "medical_df.with_columns( pl.col('Cholesterol Level').fill_null(strategy = 'backward'))\n",
        "## still, not porfect for data from patients"
      ]
    },
    {
      "cell_type": "code",
      "execution_count": null,
      "metadata": {
        "id": "zFAtWQrbRp0G"
      },
      "outputs": [],
      "source": [
        "medical_df.with_columns( pl.col('Cholesterol Level').interpolate())"
      ]
    },
    {
      "cell_type": "code",
      "execution_count": null,
      "metadata": {
        "id": "5jGXvmE2R3vE"
      },
      "outputs": [],
      "source": []
    },
    {
      "cell_type": "markdown",
      "metadata": {
        "id": "_iKtRH18SJT6"
      },
      "source": [
        "#### Write to file"
      ]
    },
    {
      "cell_type": "code",
      "execution_count": null,
      "metadata": {
        "id": "9WAZK2h_SMLf"
      },
      "outputs": [],
      "source": [
        "medical_df.write_csv('medical_df.csv')"
      ]
    },
    {
      "cell_type": "markdown",
      "metadata": {
        "id": "pypDWj-uSTdW"
      },
      "source": [
        "#### Read csv"
      ]
    },
    {
      "cell_type": "code",
      "execution_count": null,
      "metadata": {
        "id": "r5PfhHaySSJy"
      },
      "outputs": [],
      "source": [
        "medical_df_2 = pl.read_csv('medical_df.csv')"
      ]
    },
    {
      "cell_type": "code",
      "execution_count": null,
      "metadata": {
        "id": "vhbxK6xTSZIt"
      },
      "outputs": [],
      "source": [
        "medical_df_2"
      ]
    },
    {
      "cell_type": "markdown",
      "metadata": {
        "id": "QImrsZUjSfMa"
      },
      "source": [
        "### Plotting with hvplot package"
      ]
    },
    {
      "cell_type": "code",
      "execution_count": null,
      "metadata": {
        "id": "-6kdZhRTTIrv"
      },
      "outputs": [],
      "source": [
        "# Install hvplot if needed\n",
        "\n",
        "#!pip install hvplot\n",
        "#!pip install polars hvplot"
      ]
    },
    {
      "cell_type": "code",
      "execution_count": null,
      "metadata": {
        "id": "mPwwv4pBSafe"
      },
      "outputs": [],
      "source": [
        "import hvplot.pandas\n",
        "\n",
        "# barplot\n",
        "pandas_df = medical_df.to_pandas()\n",
        "#pandas_df['Cholesterol Level'].plot.bar()\n",
        "pandas_df.hvplot.bar(x='Name', y='Cholesterol Level', height=400, width=700,\n",
        "                            title=\"Cholesterol Levels by Name\")\n",
        "\n",
        "## if needed, use following code to display the plot"
      ]
    },
    {
      "cell_type": "code",
      "execution_count": null,
      "metadata": {
        "id": "1rHY2fUuSoom"
      },
      "outputs": [],
      "source": [
        "import holoviews as hv\n",
        "hv.extension('bokeh')  # This line ensures Holoviews uses Bokeh for rendering if it's not already set\n",
        "hvplot.show(plot)"
      ]
    },
    {
      "cell_type": "code",
      "execution_count": null,
      "metadata": {
        "id": "8j6m0TPQUP0A"
      },
      "outputs": [],
      "source": [
        "## scatter plot\n",
        "\n",
        "medical_df.plot.scatter(x = 'Age', y = 'Cholesterol Level')"
      ]
    },
    {
      "cell_type": "code",
      "execution_count": null,
      "metadata": {
        "id": "Ffmv_h_JUcYE"
      },
      "outputs": [],
      "source": []
    }
  ],
  "metadata": {
    "colab": {
      "provenance": []
    },
    "kernelspec": {
      "display_name": "Python 3 (ipykernel)",
      "language": "python",
      "name": "python3"
    },
    "language_info": {
      "codemirror_mode": {
        "name": "ipython",
        "version": 3
      },
      "file_extension": ".py",
      "mimetype": "text/x-python",
      "name": "python",
      "nbconvert_exporter": "python",
      "pygments_lexer": "ipython3",
      "version": "3.9.16"
    }
  },
  "nbformat": 4,
  "nbformat_minor": 0
}